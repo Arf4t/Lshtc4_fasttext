{
 "cells": [
  {
   "cell_type": "code",
   "execution_count": 10,
   "metadata": {},
   "outputs": [],
   "source": [
    "import re\n",
    "import os\n",
    "from progressbar import ProgressBar\n",
    "import numpy as np\n",
    "from sklearn.metrics import precision_recall_fscore_support,f1_score\n",
    "from collections import Counter as c\n",
    "from sklearn.model_selection import train_test_split"
   ]
  },
  {
   "cell_type": "code",
   "execution_count": 11,
   "metadata": {},
   "outputs": [],
   "source": [
    "class topnclass:\n",
    "    def __init__(self):\n",
    "        with open(\"/home/student1/parsefull.csv\") as f:\n",
    "            lin=f.readlines()\n",
    "        self.con = [x.rstrip('\\n') for x in lin]  ####### stripping newlines.........\n",
    "        self.con =[re.split(':\\d+',x) for x in self.con]\n",
    "    def toplabels(self,n):\n",
    "        con_new=[x[0]for x in self.con]\n",
    "        con_new=[list(map(int,re.split('\\s',x.replace(\",\",''))[:-1]))for x in con_new]\n",
    "        flat_con_new = [item for sublist in con_new for item in sublist]\n",
    "        label_counts=c(flat_con_new)\n",
    "        label_top=[x[0]for x in label_counts.most_common(n)]\n",
    "        return label_top\n",
    "    def createdatatop(self,n):\n",
    "        pbar=ProgressBar()\n",
    "        label_list=self.toplabels(n)\n",
    "        self.label_list_all=label_list\n",
    "        ############# discard only labels not data\n",
    "        tmp=[]\n",
    "        y=[]###########target class\n",
    "        X=[]#############documents\n",
    "        with open('top'+str(n)+'classdata.txt','w') as f:\n",
    "            for j in pbar(range(len(self.con))):\n",
    "                tmp=re.split(', ',self.con[j][0])\n",
    "                count=0\n",
    "                tmp1=[]\n",
    "                for x in tmp[:-1]:\n",
    "                    if int(x) in label_list:\n",
    "                        count = count+1\n",
    "                        f.write('__label__')\n",
    "                        tmp1.append(int(x))\n",
    "                        f.write(str(x)+' ')\n",
    "                tmp=tmp[-1].split()\n",
    "                if int(tmp[0]) in label_list:\n",
    "                    count=count+1\n",
    "                    f.write('__label__')\n",
    "                    tmp1.append(int(tmp[0]))\n",
    "                    f.write(str(tmp[0])+' ')\n",
    "                if tmp1:\n",
    "                    y.append(tmp1)\n",
    "                if count>0:\n",
    "                    f.write('w'+str(tmp[1])+' ')\n",
    "                    tmp2=[]\n",
    "                    for k in self.con[j][1:-1]:\n",
    "                        f.write('w'+str(k).replace(' ','')+' ')\n",
    "                        tmp2.append('w'+str(k).replace(' ',''))\n",
    "                    X.append(\" \".join(tmp2))\n",
    "                    f.write('\\n')\n",
    "        return X,y\n",
    "    def fastontop(self,n):\n",
    "        X,y=self.createdatatop(n)\n",
    "        X_train, X_test, y_train, y_test=train_test_split(X, y, test_size=0.30, random_state=30,shuffle=True)\n",
    "        with open('top'+str(n)+'classtrain.txt','w') as f:\n",
    "            for i in range(len(X_train)):\n",
    "                for j in range(len(y_train[i])):\n",
    "                    f.write(\"__label__\")\n",
    "                    f.write(str(y_train[i][j])+\" \")\n",
    "                f.write(X_train[i])\n",
    "                f.write(\"\\n\")\n",
    "        with open('top'+str(n)+'classtest.txt','w') as f:\n",
    "            for i in range(len(X_test)):\n",
    "                f.write(X_test[i])\n",
    "                f.write(\"\\n\")\n",
    "        cmd1=\"fasttext supervised  -dim 200 -epoch 100 -lr 0.25 -loss hs -input top\"+str(n)+\"classtrain.txt -output top\"+str(n)+\"classmodel\"\n",
    "        mod=\"top\"+str(n)+\"classmodel.bin \"\n",
    "        tes=\"top\"+str(n)+\"classtest.txt \"\n",
    "        res=\"top\"+str(n)+\"classresult.txt\"\n",
    "        y_train_labellength=[len(x) for x in y_train]\n",
    "        Average_labels_per_document = sum(y_train_labellength)/len(y_train_labellength)\n",
    "        print('Average_labels_per_document in top '+str(n)+' class data is',Average_labels_per_document)\n",
    "        label_predict_count=str(round(Average_labels_per_document))\n",
    "        print('So,Predicting ',label_predict_count,'labels using fasttext')\n",
    "        cmd2=\"fasttext predict \"+mod+ tes+label_predict_count+' > '+ res\n",
    "        os.system(cmd1)\n",
    "        os.system(cmd2)\n",
    "        f = open(res, 'r')###############reading predicted values\n",
    "        lines =[re.split('__label__', line) for line in f.readlines()]\n",
    "        f.close()\n",
    "        lines=[x[1:]for x in lines]\n",
    "        lines=[list(map(int, x)) if isinstance(x,list) else [int(x)] for x in lines]\n",
    "        shape=(len(y_test),n)\n",
    "        y_true=np.zeros(shape,dtype=np.int)\n",
    "        y_pred=np.zeros(shape,dtype=np.int)\n",
    "        for x in range(len(y_test)):\n",
    "            t1=lines[x]\n",
    "            t2=y_test[x]\n",
    "            for k in range(len(t1)):\n",
    "                index1=self.label_list_all.index(t1[k])\n",
    "                y_pred[x][index1]=1\n",
    "            for z in range(len(t2)):\n",
    "                index2=self.label_list_all.index(t2[z])\n",
    "                y_true[x][index2]=1\n",
    "        print(\"For top \"+str(n)+\" class (precision,recall,fscore) using macro average:\",precision_recall_fscore_support(y_true,y_pred, average='macro'))\n"
   ]
  },
  {
   "cell_type": "code",
   "execution_count": 12,
   "metadata": {},
   "outputs": [],
   "source": [
    "obj=topnclass()"
   ]
  },
  {
   "cell_type": "code",
   "execution_count": 13,
   "metadata": {},
   "outputs": [
    {
     "name": "stderr",
     "output_type": "stream",
     "text": [
      "100% (2365436 of 2365436) |###############| Elapsed Time: 0:00:38 Time: 0:00:38\n"
     ]
    },
    {
     "name": "stdout",
     "output_type": "stream",
     "text": [
      "Average_labels_per_document in top 10 class data is 1.2040520887536859\n",
      "So,Predicting  1 labels using fasttext\n",
      "For top 10 class (precision,recall,fscore) using macro average: (0.7721319410090449, 0.45440001895511434, 0.544640031905407, None)\n"
     ]
    }
   ],
   "source": [
    "obj.fastontop(10)"
   ]
  },
  {
   "cell_type": "code",
   "execution_count": 14,
   "metadata": {},
   "outputs": [
    {
     "name": "stderr",
     "output_type": "stream",
     "text": [
      "100% (2365436 of 2365436) |###############| Elapsed Time: 0:01:00 Time: 0:01:00\n"
     ]
    },
    {
     "name": "stdout",
     "output_type": "stream",
     "text": [
      "Average_labels_per_document in top 100 class data is 1.4025902858246426\n",
      "So,Predicting  1 labels using fasttext\n",
      "For top 100 class (precision,recall,fscore) using macro average: (0.5063146170884429, 0.2950444835595893, 0.3544236294610442, None)\n"
     ]
    }
   ],
   "source": [
    "obj.fastontop(100)"
   ]
  },
  {
   "cell_type": "code",
   "execution_count": 15,
   "metadata": {},
   "outputs": [
    {
     "name": "stderr",
     "output_type": "stream",
     "text": [
      "100% (2365436 of 2365436) |###############| Elapsed Time: 0:03:35 Time: 0:03:35\n"
     ]
    },
    {
     "name": "stdout",
     "output_type": "stream",
     "text": [
      "Average_labels_per_document in top 1000 class data is 1.9115519552849054\n",
      "So,Predicting  2 labels using fasttext\n",
      "For top 1000 class (precision,recall,fscore) using macro average: (0.3455700747447608, 0.3395190123331962, 0.3231711861919399, None)\n"
     ]
    }
   ],
   "source": [
    "obj.fastontop(1000)"
   ]
  },
  {
   "cell_type": "code",
   "execution_count": 16,
   "metadata": {},
   "outputs": [
    {
     "name": "stderr",
     "output_type": "stream",
     "text": [
      "100% (2365436 of 2365436) |###############| Elapsed Time: 0:26:45 Time: 0:26:45\n"
     ]
    },
    {
     "name": "stdout",
     "output_type": "stream",
     "text": [
      "Average_labels_per_document in top 10000 class data is 2.4095504116927997\n",
      "So,Predicting  2 labels using fasttext\n",
      "For top 10000 class (precision,recall,fscore) using macro average: (0.2500700256356269, 0.22185674621604384, 0.2148148932757374, None)\n"
     ]
    }
   ],
   "source": [
    "obj.fastontop(10000)"
   ]
  },
  {
   "cell_type": "code",
   "execution_count": null,
   "metadata": {},
   "outputs": [],
   "source": []
  }
 ],
 "metadata": {
  "kernelspec": {
   "display_name": "Python 3",
   "language": "python",
   "name": "python3"
  },
  "language_info": {
   "codemirror_mode": {
    "name": "ipython",
    "version": 3
   },
   "file_extension": ".py",
   "mimetype": "text/x-python",
   "name": "python",
   "nbconvert_exporter": "python",
   "pygments_lexer": "ipython3",
   "version": "3.6.3"
  }
 },
 "nbformat": 4,
 "nbformat_minor": 2
}
